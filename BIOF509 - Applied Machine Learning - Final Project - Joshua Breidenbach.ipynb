{
 "cells": [
  {
   "cell_type": "markdown",
   "metadata": {},
   "source": [
    "# Applied Machine Learning - CORAL Trial - Joshua Breidenbach"
   ]
  },
  {
   "cell_type": "markdown",
   "metadata": {},
   "source": [
    "Hypothesis: \"Patient demographics and routine clinical lab measures in a group of Atherosclerotic Renal-Artery Stenosis patients are sufficient for the prediction of serum paraoxonase (PON) activity.\""
   ]
  },
  {
   "cell_type": "markdown",
   "metadata": {},
   "source": [
    "## Initial Imports"
   ]
  },
  {
   "cell_type": "code",
   "execution_count": 4,
   "metadata": {},
   "outputs": [],
   "source": [
    "#First, we import packages to be used in this workflow\n",
    "import numpy as np\n",
    "import pandas as pd\n",
    "from sklearn.preprocessing import MinMaxScaler\n",
    "from sklearn.utils import resample\n",
    "from sklearn.preprocessing import LabelEncoder\n",
    "from sklearn.metrics import accuracy_score,confusion_matrix\n",
    "from sklearn.model_selection import StratifiedKFold\n",
    "from sklearn.svm import SVC\n",
    "from sklearn import metrics\n",
    "from sklearn.model_selection import train_test_split\n",
    "from sklearn.ensemble import RandomForestClassifier\n",
    "from sklearn.ensemble import RandomForestRegressor\n",
    "import keras #First need to install keras and tensorflow (pip install *)\n",
    "from keras.models import Sequential\n",
    "from keras.layers import Dense\n",
    "import seaborn as sns\n",
    "import matplotlib.pyplot as plt"
   ]
  },
  {
   "cell_type": "markdown",
   "metadata": {},
   "source": [
    "## Preprocessing\n",
    "### Import and clean data\n",
    "#### Import\n",
    "#### Remove unwanted features\n",
    "#### Deal with missing data - remove feature and samples\n",
    "#### Balance classes"
   ]
  },
  {
   "cell_type": "code",
   "execution_count": 5,
   "metadata": {},
   "outputs": [
    {
     "data": {
      "text/plain": [
       "(718, 44)"
      ]
     },
     "execution_count": 5,
     "metadata": {},
     "output_type": "execute_result"
    }
   ],
   "source": [
    "#Then, we read in our original data\n",
    "Original_Data = pd.read_csv(r\"C:\\Users\\Josh\\Downloads\\CORAL_Baseline_V3.csv\", index_col ='Analysis Sequence')\n",
    "Original_Data.shape"
   ]
  },
  {
   "cell_type": "code",
   "execution_count": 6,
   "metadata": {},
   "outputs": [
    {
     "data": {
      "text/plain": [
       "(718, 36)"
      ]
     },
     "execution_count": 6,
     "metadata": {},
     "output_type": "execute_result"
    }
   ],
   "source": [
    "#Let's first remove features that may not be of interest to us\n",
    "Cleaned_df = Original_Data.drop(columns=['Sub ID', \n",
    "                                         'HDL Baseline Median High_Low', \n",
    "                                         'LDL Baseline Median High_Low', \n",
    "                                         'Microalbumin Cr Ratio Log Bsln.', \n",
    "                                         'SPECIFIC PON ACTIVITY (pmol/min/mL) Baseline', \n",
    "                                         'PON Activity Baseline Median High_Low', \n",
    "                                         'PON_HDL Ratio Baseline',\n",
    "                                         'LDL_PON Ratio Baseline'\n",
    "                                        ])\n",
    "Cleaned_df.shape"
   ]
  },
  {
   "cell_type": "code",
   "execution_count": 7,
   "metadata": {},
   "outputs": [
    {
     "data": {
      "text/html": [
       "<div>\n",
       "<style scoped>\n",
       "    .dataframe tbody tr th:only-of-type {\n",
       "        vertical-align: middle;\n",
       "    }\n",
       "\n",
       "    .dataframe tbody tr th {\n",
       "        vertical-align: top;\n",
       "    }\n",
       "\n",
       "    .dataframe thead th {\n",
       "        text-align: right;\n",
       "    }\n",
       "</style>\n",
       "<table border=\"1\" class=\"dataframe\">\n",
       "  <thead>\n",
       "    <tr style=\"text-align: right;\">\n",
       "      <th></th>\n",
       "      <th>Age</th>\n",
       "      <th>Height (ins)</th>\n",
       "      <th>Weight (lbs)</th>\n",
       "      <th>BMI</th>\n",
       "      <th>SBP Baseline</th>\n",
       "      <th>DBP Baseline</th>\n",
       "      <th>UACR Baseline</th>\n",
       "      <th>Creatinine Baseline</th>\n",
       "      <th>Cystatin C Baseline</th>\n",
       "      <th>Potassium Baseline</th>\n",
       "      <th>HDL Baseline mg/dL</th>\n",
       "      <th>LDL Baseline mg/dL</th>\n",
       "      <th>Total HTN Class Drugs Baseline</th>\n",
       "      <th>Total Meds Overall Baseline</th>\n",
       "    </tr>\n",
       "  </thead>\n",
       "  <tbody>\n",
       "    <tr>\n",
       "      <th>count</th>\n",
       "      <td>718.000000</td>\n",
       "      <td>717.000000</td>\n",
       "      <td>717.000000</td>\n",
       "      <td>716.000000</td>\n",
       "      <td>717.000000</td>\n",
       "      <td>717.000000</td>\n",
       "      <td>665.000000</td>\n",
       "      <td>715.000000</td>\n",
       "      <td>715.000000</td>\n",
       "      <td>651.000000</td>\n",
       "      <td>712.000000</td>\n",
       "      <td>698.000000</td>\n",
       "      <td>716.000000</td>\n",
       "      <td>716.000000</td>\n",
       "    </tr>\n",
       "    <tr>\n",
       "      <th>mean</th>\n",
       "      <td>69.495822</td>\n",
       "      <td>65.875872</td>\n",
       "      <td>176.737796</td>\n",
       "      <td>29.455712</td>\n",
       "      <td>149.238494</td>\n",
       "      <td>78.393305</td>\n",
       "      <td>191.453128</td>\n",
       "      <td>1.242811</td>\n",
       "      <td>1.270601</td>\n",
       "      <td>4.169877</td>\n",
       "      <td>43.018258</td>\n",
       "      <td>93.100287</td>\n",
       "      <td>2.002793</td>\n",
       "      <td>3.828212</td>\n",
       "    </tr>\n",
       "    <tr>\n",
       "      <th>std</th>\n",
       "      <td>9.320086</td>\n",
       "      <td>4.125807</td>\n",
       "      <td>42.484383</td>\n",
       "      <td>5.713399</td>\n",
       "      <td>22.820658</td>\n",
       "      <td>12.976724</td>\n",
       "      <td>689.750614</td>\n",
       "      <td>0.455655</td>\n",
       "      <td>0.460336</td>\n",
       "      <td>0.577996</td>\n",
       "      <td>12.823960</td>\n",
       "      <td>59.785136</td>\n",
       "      <td>1.455155</td>\n",
       "      <td>2.497515</td>\n",
       "    </tr>\n",
       "    <tr>\n",
       "      <th>min</th>\n",
       "      <td>19.000000</td>\n",
       "      <td>48.000000</td>\n",
       "      <td>83.000000</td>\n",
       "      <td>14.160000</td>\n",
       "      <td>88.000000</td>\n",
       "      <td>37.000000</td>\n",
       "      <td>1.470000</td>\n",
       "      <td>0.460000</td>\n",
       "      <td>0.270000</td>\n",
       "      <td>2.700000</td>\n",
       "      <td>15.000000</td>\n",
       "      <td>12.000000</td>\n",
       "      <td>0.000000</td>\n",
       "      <td>0.000000</td>\n",
       "    </tr>\n",
       "    <tr>\n",
       "      <th>25%</th>\n",
       "      <td>63.000000</td>\n",
       "      <td>63.000000</td>\n",
       "      <td>150.000000</td>\n",
       "      <td>25.860000</td>\n",
       "      <td>133.000000</td>\n",
       "      <td>71.000000</td>\n",
       "      <td>9.090000</td>\n",
       "      <td>0.910000</td>\n",
       "      <td>0.950000</td>\n",
       "      <td>3.800000</td>\n",
       "      <td>34.000000</td>\n",
       "      <td>68.000000</td>\n",
       "      <td>1.000000</td>\n",
       "      <td>2.000000</td>\n",
       "    </tr>\n",
       "    <tr>\n",
       "      <th>50%</th>\n",
       "      <td>70.000000</td>\n",
       "      <td>66.000000</td>\n",
       "      <td>175.000000</td>\n",
       "      <td>28.510000</td>\n",
       "      <td>149.000000</td>\n",
       "      <td>78.000000</td>\n",
       "      <td>20.830000</td>\n",
       "      <td>1.170000</td>\n",
       "      <td>1.180000</td>\n",
       "      <td>4.100000</td>\n",
       "      <td>41.000000</td>\n",
       "      <td>83.000000</td>\n",
       "      <td>2.000000</td>\n",
       "      <td>4.000000</td>\n",
       "    </tr>\n",
       "    <tr>\n",
       "      <th>75%</th>\n",
       "      <td>76.000000</td>\n",
       "      <td>69.000000</td>\n",
       "      <td>198.000000</td>\n",
       "      <td>32.540000</td>\n",
       "      <td>163.000000</td>\n",
       "      <td>87.000000</td>\n",
       "      <td>75.360000</td>\n",
       "      <td>1.495000</td>\n",
       "      <td>1.470000</td>\n",
       "      <td>4.500000</td>\n",
       "      <td>49.000000</td>\n",
       "      <td>108.000000</td>\n",
       "      <td>3.000000</td>\n",
       "      <td>6.000000</td>\n",
       "    </tr>\n",
       "    <tr>\n",
       "      <th>max</th>\n",
       "      <td>89.000000</td>\n",
       "      <td>81.000000</td>\n",
       "      <td>786.000000</td>\n",
       "      <td>63.820000</td>\n",
       "      <td>227.000000</td>\n",
       "      <td>133.000000</td>\n",
       "      <td>7812.500000</td>\n",
       "      <td>4.010000</td>\n",
       "      <td>3.790000</td>\n",
       "      <td>8.500000</td>\n",
       "      <td>93.000000</td>\n",
       "      <td>1136.000000</td>\n",
       "      <td>6.000000</td>\n",
       "      <td>11.000000</td>\n",
       "    </tr>\n",
       "  </tbody>\n",
       "</table>\n",
       "</div>"
      ],
      "text/plain": [
       "              Age  Height (ins)  Weight (lbs)         BMI  SBP Baseline  \\\n",
       "count  718.000000    717.000000    717.000000  716.000000    717.000000   \n",
       "mean    69.495822     65.875872    176.737796   29.455712    149.238494   \n",
       "std      9.320086      4.125807     42.484383    5.713399     22.820658   \n",
       "min     19.000000     48.000000     83.000000   14.160000     88.000000   \n",
       "25%     63.000000     63.000000    150.000000   25.860000    133.000000   \n",
       "50%     70.000000     66.000000    175.000000   28.510000    149.000000   \n",
       "75%     76.000000     69.000000    198.000000   32.540000    163.000000   \n",
       "max     89.000000     81.000000    786.000000   63.820000    227.000000   \n",
       "\n",
       "       DBP Baseline  UACR Baseline  Creatinine Baseline  Cystatin C Baseline  \\\n",
       "count    717.000000     665.000000           715.000000           715.000000   \n",
       "mean      78.393305     191.453128             1.242811             1.270601   \n",
       "std       12.976724     689.750614             0.455655             0.460336   \n",
       "min       37.000000       1.470000             0.460000             0.270000   \n",
       "25%       71.000000       9.090000             0.910000             0.950000   \n",
       "50%       78.000000      20.830000             1.170000             1.180000   \n",
       "75%       87.000000      75.360000             1.495000             1.470000   \n",
       "max      133.000000    7812.500000             4.010000             3.790000   \n",
       "\n",
       "       Potassium Baseline  HDL Baseline mg/dL  LDL Baseline mg/dL  \\\n",
       "count          651.000000          712.000000          698.000000   \n",
       "mean             4.169877           43.018258           93.100287   \n",
       "std              0.577996           12.823960           59.785136   \n",
       "min              2.700000           15.000000           12.000000   \n",
       "25%              3.800000           34.000000           68.000000   \n",
       "50%              4.100000           41.000000           83.000000   \n",
       "75%              4.500000           49.000000          108.000000   \n",
       "max              8.500000           93.000000         1136.000000   \n",
       "\n",
       "       Total HTN Class Drugs Baseline  Total Meds Overall Baseline  \n",
       "count                      716.000000                   716.000000  \n",
       "mean                         2.002793                     3.828212  \n",
       "std                          1.455155                     2.497515  \n",
       "min                          0.000000                     0.000000  \n",
       "25%                          1.000000                     2.000000  \n",
       "50%                          2.000000                     4.000000  \n",
       "75%                          3.000000                     6.000000  \n",
       "max                          6.000000                    11.000000  "
      ]
     },
     "metadata": {},
     "output_type": "display_data"
    }
   ],
   "source": [
    "#Let's take a better look at our data and identify missing values\n",
    "display(Cleaned_df.describe())"
   ]
  },
  {
   "cell_type": "code",
   "execution_count": 8,
   "metadata": {},
   "outputs": [
    {
     "data": {
      "text/plain": [
       "Age                                0\n",
       "Sex                                0\n",
       "Race                               0\n",
       "Ethnicity: Latino_Hispanic         0\n",
       "Height (ins)                       1\n",
       "Weight (lbs)                       1\n",
       "BMI                                2\n",
       "Treatment_Assignment               0\n",
       "Creatinine Status                  0\n",
       "Site_Country Group                 0\n",
       "SBP Baseline                       1\n",
       "DBP Baseline                       1\n",
       "UACR Baseline                     53\n",
       "CKD by CKD_EPI Calc                3\n",
       "CKD by CKD_EPI                     3\n",
       "CKD                                2\n",
       "CKD Stage                          0\n",
       "CKD Stage by CKD_EPI GFR           3\n",
       "Renal Dysfunction                  4\n",
       "DM                                 4\n",
       "Creatinine Baseline                3\n",
       "Cystatin C Baseline                3\n",
       "Potassium Baseline                67\n",
       "HDL Baseline mg/dL                 6\n",
       "LDL Baseline mg/dL                20\n",
       "Angina                            79\n",
       "TIA | Stroke                       8\n",
       "CHF Hx                             5\n",
       "CVD                               62\n",
       "Hyperlipidemia                     8\n",
       "Smoking                            4\n",
       "MI                                10\n",
       "PVD                                8\n",
       "Total HTN Class Drugs Baseline     2\n",
       "Total Meds Overall Baseline        2\n",
       "PONClass                           0\n",
       "dtype: int64"
      ]
     },
     "execution_count": 8,
     "metadata": {},
     "output_type": "execute_result"
    }
   ],
   "source": [
    "'''\n",
    "\n",
    "Let's see how many values are missing for each feature.\n",
    "\n",
    "'''\n",
    "np.sum(Cleaned_df.isna()) #Displays number of missing values in each feature (#of NaN)"
   ]
  },
  {
   "cell_type": "code",
   "execution_count": 9,
   "metadata": {},
   "outputs": [
    {
     "data": {
      "text/plain": [
       "(718, 36)"
      ]
     },
     "metadata": {},
     "output_type": "display_data"
    },
    {
     "data": {
      "text/plain": [
       "(482, 36)"
      ]
     },
     "metadata": {},
     "output_type": "display_data"
    }
   ],
   "source": [
    "'''\n",
    "We need to remove samples or sample features with missing values\n",
    "Alternatively, we may impute missing values\n",
    "First, let's find out how many samples we will remove if we remove ones which have atleast 1 missing value\n",
    "\n",
    "'''\n",
    "data_dropped = Cleaned_df.dropna() #Drops samples (rows) which have missing data\n",
    "display(Cleaned_df.shape) #Displays original data shape (rows, columns)\n",
    "display(data_dropped.shape) #Displays trimmed data shape"
   ]
  },
  {
   "cell_type": "code",
   "execution_count": 10,
   "metadata": {},
   "outputs": [
    {
     "data": {
      "text/plain": [
       "(718, 33)"
      ]
     },
     "metadata": {},
     "output_type": "display_data"
    },
    {
     "data": {
      "text/plain": [
       "(718, 36)"
      ]
     },
     "metadata": {},
     "output_type": "display_data"
    },
    {
     "data": {
      "text/plain": [
       "(482, 36)"
      ]
     },
     "metadata": {},
     "output_type": "display_data"
    },
    {
     "data": {
      "text/plain": [
       "(614, 33)"
      ]
     },
     "metadata": {},
     "output_type": "display_data"
    }
   ],
   "source": [
    "'''\n",
    "Then, let's find out how many samples we will remove if we first remove features with many missing values such as 'Potassium Baseline', 'Angina', 'CVD'\n",
    "\n",
    "'''\n",
    "FeaturesDropped_df = Cleaned_df.drop(columns=['Potassium Baseline', 'Angina', 'CVD'])\n",
    "display(FeaturesDropped_df.shape) #Confirm that columns have been dropped\n",
    "newdata_dropped = FeaturesDropped_df.dropna() #Drops samples (rows) which have missing data\n",
    "display(Cleaned_df.shape) #Displays original data shape (rows, columns)\n",
    "display(data_dropped.shape) #Displays trimmed data shape\n",
    "display(newdata_dropped.shape) #Displays trimmed data shape"
   ]
  },
  {
   "cell_type": "code",
   "execution_count": 11,
   "metadata": {},
   "outputs": [
    {
     "data": {
      "text/plain": [
       "(567, 47)"
      ]
     },
     "execution_count": 11,
     "metadata": {},
     "output_type": "execute_result"
    }
   ],
   "source": [
    "'''\n",
    "We see that when we remove the features with large numbers of missing values, 'Potassium Baseline', 'Angina', and 'CVD', we can preserve more of our samples.\n",
    "Here we are only losing 14.4% of our samples instead of 32.8%.\n",
    "If this is still inadequate, we could come back to this step and attempt different methods of imputation.\n",
    "Next, we want to check the balance of our data between the 2 classes 'High' or 'Low' stored currently in the PONClass column of newdata_dropped.\n",
    "\n",
    "'''\n",
    "np.sum(newdata_dropped['PONClass']=='High'), np.sum(newdata_dropped['PONClass']=='Low')"
   ]
  },
  {
   "cell_type": "code",
   "execution_count": 76,
   "metadata": {},
   "outputs": [
    {
     "data": {
      "text/plain": [
       "(94, 33)"
      ]
     },
     "execution_count": 76,
     "metadata": {},
     "output_type": "execute_result"
    }
   ],
   "source": [
    "'''\n",
    "We see that our data is very imbalanced, with Low only being represented by about 7% of our data.\n",
    "To address this, we can undersample from the majority 'High'.\n",
    "'''\n",
    "minority = newdata_dropped[newdata_dropped['PONClass'] == 'Low'] #Assigns the Low PONClass samples to the minority df\n",
    "majority = newdata_dropped[newdata_dropped['PONClass'] == 'High'] #Assigns the High PONClass samples to the majority df\n",
    "\n",
    "undersampled = resample(majority, n_samples=47, random_state=509) #Randomly selects samples from the majority df until there are a total of 47 samples with 'High'\n",
    "\n",
    "newdata_balanced = pd.concat([undersampled,minority]) #Combines the 47 randomly selected majority samples with the 47 minority samples\n",
    "newdata_balanced.shape #Confirm that new rows have been added (47 *2 rows)"
   ]
  },
  {
   "cell_type": "code",
   "execution_count": 77,
   "metadata": {},
   "outputs": [
    {
     "data": {
      "text/plain": [
       "(94, 32)"
      ]
     },
     "execution_count": 77,
     "metadata": {},
     "output_type": "execute_result"
    }
   ],
   "source": [
    "'''\n",
    "Because this is a labeled dataset, we need to remove our classifier from the data.\n",
    "\n",
    "'''\n",
    "target = newdata_balanced['PONClass']\n",
    "newdata = newdata_balanced.drop(columns=['PONClass'])\n",
    "\n",
    "'''\n",
    "'target' still contains strings and should be converted to numerical category codes.\n",
    "This will be done by label encoding.\n",
    "This results in 'High' -> 0 and 'Low' -> 1.\n",
    "\n",
    "'''\n",
    "\n",
    "labelencoder = LabelEncoder()\n",
    "target = labelencoder.fit_transform(target)\n",
    "newdata.shape #Confirm that a column has been removed"
   ]
  },
  {
   "cell_type": "code",
   "execution_count": 78,
   "metadata": {},
   "outputs": [
    {
     "data": {
      "text/plain": [
       "(94, 58)"
      ]
     },
     "execution_count": 78,
     "metadata": {},
     "output_type": "execute_result"
    }
   ],
   "source": [
    "'''\n",
    "Now that there are no missing values in our data and our class labels have been set aside, we need to deal with our categorical variables.\n",
    "We'll use a panda dummmies method to convert each category of each categorical variable to it's own binary column.\n",
    "More info on this method can be found here: https://pandas.pydata.org/docs/reference/api/pandas.get_dummies.html\n",
    "\n",
    "'''\n",
    "newdata_dum = pd.get_dummies(newdata, \n",
    "                        columns=[\"Sex\",\"Race\", \"Ethnicity: Latino_Hispanic\", \"Treatment_Assignment\", \"Creatinine Status\", \"Site_Country Group\", \"CKD by CKD_EPI Calc\", \"CKD by CKD_EPI\", \"CKD\", \"CKD Stage\", \"CKD Stage by CKD_EPI GFR\", \"Renal Dysfunction\", \"DM\", \"TIA | Stroke\", \"CHF Hx\", \"Hyperlipidemia\", \"Smoking\", \"MI\", \"PVD\"], \n",
    "                        prefix=[\"Sex_is\",\"Race_is\", \"Hispanic_is\", \"Treatment_is\", \"Creatinine_Status_is\", \"Site_is\", \"CKD_by_EPI_Calc_is\", \"CKD_by_EPI_is\", \"CKD_is\", \"CKD_Stage_is\", \"CKD_Stage_by_CKD_EPI_GFR_is\", \"Renal_Dysfunction_is\", \"DM_is\", \"TIA_or_Stroke_is\", \"CHF_Hx_is\", \"Hyperlipidemia_is\", \"Smoking_is\", \"MI_is\", \"PVD_is\"] \n",
    "                       )\n",
    "newdata_dum.shape"
   ]
  },
  {
   "cell_type": "markdown",
   "metadata": {},
   "source": [
    "### Scaling"
   ]
  },
  {
   "cell_type": "code",
   "execution_count": 52,
   "metadata": {},
   "outputs": [],
   "source": [
    "class Preprocessing:\n",
    "    def __init__(self, data):\n",
    "        self.data = data\n",
    "        \n",
    "    def scale(self):\n",
    "        #Used to scale the data to the space between 0 and 1\n",
    "        data_to_be_scaled = self.data\n",
    "        scaler = MinMaxScaler()\n",
    "        scaled_data = scaler.fit_transform(data_to_be_scaled)\n",
    "        return scaled_data"
   ]
  },
  {
   "cell_type": "code",
   "execution_count": 79,
   "metadata": {},
   "outputs": [
    {
     "data": {
      "text/plain": [
       "array([[0.61538462, 0.51724138, 0.58125   , ..., 1.        , 0.        ,\n",
       "        1.        ],\n",
       "       [0.74358974, 0.5862069 , 0.44375   , ..., 1.        , 1.        ,\n",
       "        0.        ],\n",
       "       [0.        , 0.44827586, 0.2625    , ..., 0.        , 0.        ,\n",
       "        1.        ],\n",
       "       ...,\n",
       "       [0.33333333, 0.48275862, 0.41875   , ..., 0.        , 1.        ,\n",
       "        0.        ],\n",
       "       [0.61538462, 0.27586207, 0.0875    , ..., 0.        , 1.        ,\n",
       "        0.        ],\n",
       "       [0.74358974, 0.62068966, 0.5125    , ..., 1.        , 0.        ,\n",
       "        1.        ]])"
      ]
     },
     "execution_count": 79,
     "metadata": {},
     "output_type": "execute_result"
    }
   ],
   "source": [
    "#Now that our data is cleaned and our target is defined, let's finish the preprocessing of our data\n",
    "OGdata = Preprocessing(newdata_dum)\n",
    "OGdata.scale()"
   ]
  },
  {
   "cell_type": "markdown",
   "metadata": {},
   "source": [
    "## Supervised Machine Learning\n",
    "### SVM"
   ]
  },
  {
   "cell_type": "code",
   "execution_count": 18,
   "metadata": {},
   "outputs": [],
   "source": [
    "class SVM: \n",
    "    \n",
    "    def __init__(self, scaled_data, target, unscaled_data):\n",
    "        self.data = scaled_data\n",
    "        self.target = target\n",
    "        self.unscaled_data = unscaled_data\n",
    "        self.svm_model = SVC(kernel='linear') #Defines model\n",
    "        \n",
    "    def fit_and_predict(self):        \n",
    "        skf = StratifiedKFold(n_splits=5) #5 is used because an 80/20 or 70/30 split is a typical split\n",
    "        self.all_feature_importances = np.zeros((len(set(self.target)),len(self.unscaled_data.columns)))\n",
    "        self.all_labels = [] #used to keep track of labels corresponding to predicitons\n",
    "        self.all_predictions = [] #used to keep track of predicitons\n",
    "        self.accuracy = 0\n",
    "        \n",
    "        for train_index, test_index in skf.split(self.data, self.target): #performs the train test splits\n",
    "            X_train, y_train = self.data[train_index], self.target[train_index]\n",
    "            X_test, y_test = self.data[test_index], self.target[test_index]\n",
    "            self.svm_model.fit(X_train,y_train) #fits the model to the training data\n",
    "            self.all_feature_importances += self.svm_model.coef_ #records feature importances\n",
    "            self.predictions = self.svm_model.predict(X_test) #predicts labels of test data\n",
    "            self.all_predictions.extend(self.predictions) #records predictions\n",
    "            self.all_labels.extend(y_test)#records corresponding labels\n",
    "            self.accuracy += accuracy_score(self.predictions,y_test)#records accuracy\n",
    "        \n",
    "        print(\"PREDICTION ACCURACY\")\n",
    "        print(self.accuracy/5)#divide accuracy by 5 to get average of all stratified k-fold splits\n",
    "        print()\n",
    "        print('ALL LABELS')\n",
    "        print(self.all_labels)\n",
    "        print()\n",
    "        print('ALL PREDICTIONS')\n",
    "        print(self.all_predictions)\n",
    "        \n",
    "    def cm(self):\n",
    "        self.cm = confusion_matrix(self.all_labels,self.all_predictions,normalize= 'true')#loads label and prediction data into confusion matrix\n",
    "        df_cm = pd.DataFrame(self.cm,index=[0,1],columns=[0,1])\n",
    "        sns.heatmap(df_cm, annot=True)\n",
    "        \n",
    "    def feature_importance(self):\n",
    "        average_feature_importances = []\n",
    "        for i in range(self.all_feature_importances.shape[1]):\n",
    "            average_value = 0\n",
    "            for array in self.all_feature_importances:\n",
    "                average_value += abs(array[i])\n",
    "            average_feature_importances.append(average_value/5)#divide by 5 because of K-fold splits\n",
    "            \n",
    "        plt.figure(figsize = (15,10))\n",
    "        plt.bar(list(self.unscaled_data.columns),average_feature_importances, color ='maroon',  width = 0.4, ) \n",
    "        plt.xticks(rotation=90)\n",
    "        plt.title('Feature Importances')"
   ]
  },
  {
   "cell_type": "code",
   "execution_count": 19,
   "metadata": {},
   "outputs": [
    {
     "name": "stdout",
     "output_type": "stream",
     "text": [
      "PREDICTION ACCURACY\n",
      "0.6187134502923977\n",
      "\n",
      "ALL LABELS\n",
      "[0, 0, 0, 0, 0, 0, 0, 0, 0, 0, 1, 1, 1, 1, 1, 1, 1, 1, 1, 0, 0, 0, 0, 0, 0, 0, 0, 0, 0, 1, 1, 1, 1, 1, 1, 1, 1, 1, 0, 0, 0, 0, 0, 0, 0, 0, 0, 1, 1, 1, 1, 1, 1, 1, 1, 1, 1, 0, 0, 0, 0, 0, 0, 0, 0, 0, 1, 1, 1, 1, 1, 1, 1, 1, 1, 1, 0, 0, 0, 0, 0, 0, 0, 0, 0, 1, 1, 1, 1, 1, 1, 1, 1, 1]\n",
      "\n",
      "ALL PREDICTIONS\n",
      "[0, 0, 0, 1, 0, 0, 0, 0, 0, 1, 0, 0, 1, 1, 1, 1, 0, 0, 1, 0, 0, 0, 0, 0, 0, 0, 1, 0, 0, 0, 0, 0, 1, 0, 0, 0, 0, 0, 1, 0, 0, 1, 0, 0, 1, 1, 0, 0, 1, 0, 1, 1, 0, 1, 0, 0, 0, 0, 0, 0, 0, 1, 1, 1, 0, 0, 0, 1, 1, 1, 0, 0, 1, 1, 1, 0, 1, 0, 0, 1, 0, 0, 0, 0, 0, 0, 0, 1, 1, 1, 1, 1, 1, 1]\n"
     ]
    },
    {
     "data": {
      "image/png": "[encoded data removed]",
      "text/plain": [
       "<Figure size 432x288 with 2 Axes>"
      ]
     },
     "metadata": {
      "needs_background": "light"
     },
     "output_type": "display_data"
    },
    {
     "data": {
      "image/png": "[encoded data removed]",
      "text/plain": [
       "<Figure size 1080x720 with 1 Axes>"
      ]
     },
     "metadata": {
      "needs_background": "light"
     },
     "output_type": "display_data"
    }
   ],
   "source": [
    "svm_model = SVM(OGdata.scale(), target, newdata_dum) #Build SVM model\n",
    "svm_model.fit_and_predict() #Fit and predict with this model\n",
    "svm_model.cm() #Produce confusion matrix\n",
    "svm_model.feature_importance() #Produce feature importance plot"
   ]
  },
  {
   "cell_type": "markdown",
   "metadata": {},
   "source": [
    "### Random Forest Model\n",
    "#### All Features"
   ]
  },
  {
   "cell_type": "code",
   "execution_count": 21,
   "metadata": {},
   "outputs": [],
   "source": [
    "class RFC: #Random Forest Classifier\n",
    "    \n",
    "    def __init__(self, scaled_data, target, unscaled_data, trees):\n",
    "        self.data = scaled_data\n",
    "        self.target = target\n",
    "        self.unscaled_data = unscaled_data\n",
    "        self.trees = trees #number of trees in forest\n",
    "        self.rfclf=RandomForestClassifier(n_estimators=self.trees) # Instantiate model with 100 decision trees\n",
    "        \n",
    "    def fit_and_predict(self):        \n",
    "        skf = StratifiedKFold(n_splits=5) #5 is used because an 80/20 or 70/30 split is a typical split\n",
    "        self.all_feature_importances = np.zeros((len(set(self.target)),len(self.unscaled_data.columns)))\n",
    "        self.all_labels = [] #used to keep track of labels corresponding to predicitons\n",
    "        self.all_predictions = [] #used to keep track of predictions\n",
    "        self.accuracy = 0 \n",
    "        \n",
    "        for train_index, test_index in skf.split(self.data, self.target):#Performs train test splits\n",
    "            X_train, y_train = self.data[train_index], self.target[train_index]\n",
    "            X_test, y_test = self.data[test_index], self.target[test_index]\n",
    "            \n",
    "            self.rfclf.fit(X_train, y_train) #fit the model to the training data\n",
    "            \n",
    "            self.all_feature_importances += self.rfclf.feature_importances_ #record feature importances\n",
    "            \n",
    "            self.predictions = self.rfclf.predict(X_test) #predict from text data\n",
    "            self.all_predictions.extend(self.predictions) #record predictions\n",
    "            \n",
    "            self.all_labels.extend(y_test) #record matching labels\n",
    "            self.accuracy += metrics.accuracy_score(y_test, self.predictions) #calculate accuracy\n",
    "        \n",
    "        print(\"PREDICTION ACCURACY\")\n",
    "        print(self.accuracy/5)#divided by 5 to average across k-fold splits\n",
    "        print()\n",
    "        print('ALL LABELS')\n",
    "        print(self.all_labels)\n",
    "        print()\n",
    "        print('ALL PREDICTIONS')\n",
    "        print(self.all_predictions)\n",
    "        \n",
    "    def cm(self):\n",
    "        self.cm = confusion_matrix(self.all_labels,self.all_predictions,normalize= 'true')#loads label and prediction data into confusion matrix\n",
    "        df_cm = pd.DataFrame(self.cm,index=[0,1],columns=[0,1])\n",
    "        sns.heatmap(df_cm, annot=True)\n",
    "        \n",
    "    def feature_importance(self):\n",
    "        average_feature_importances = []\n",
    "        for i in range(self.all_feature_importances.shape[1]):\n",
    "            average_value = 0\n",
    "            for array in self.all_feature_importances:\n",
    "                average_value += abs(array[i])\n",
    "            average_feature_importances.append(average_value/5)#divide by 5 because of K-fold splits\n",
    "            \n",
    "        plt.figure(figsize = (15,10))\n",
    "        plt.bar(list(self.unscaled_data.columns),average_feature_importances, color ='maroon',  width = 0.4, ) \n",
    "        plt.xticks(rotation=90)\n",
    "        plt.title('Feature Importances')"
   ]
  },
  {
   "cell_type": "code",
   "execution_count": 89,
   "metadata": {},
   "outputs": [
    {
     "name": "stdout",
     "output_type": "stream",
     "text": [
      "PREDICTION ACCURACY\n",
      "0.6187134502923977\n",
      "\n",
      "ALL LABELS\n",
      "[0, 0, 0, 0, 0, 0, 0, 0, 0, 0, 1, 1, 1, 1, 1, 1, 1, 1, 1, 0, 0, 0, 0, 0, 0, 0, 0, 0, 0, 1, 1, 1, 1, 1, 1, 1, 1, 1, 0, 0, 0, 0, 0, 0, 0, 0, 0, 1, 1, 1, 1, 1, 1, 1, 1, 1, 1, 0, 0, 0, 0, 0, 0, 0, 0, 0, 1, 1, 1, 1, 1, 1, 1, 1, 1, 1, 0, 0, 0, 0, 0, 0, 0, 0, 0, 1, 1, 1, 1, 1, 1, 1, 1, 1]\n",
      "\n",
      "ALL PREDICTIONS\n",
      "[0, 1, 0, 1, 1, 0, 1, 1, 0, 0, 0, 0, 1, 1, 1, 1, 0, 0, 1, 0, 0, 0, 1, 0, 0, 0, 1, 0, 0, 0, 0, 1, 1, 0, 0, 1, 0, 0, 1, 0, 0, 0, 0, 0, 0, 0, 1, 0, 1, 0, 1, 1, 0, 1, 0, 0, 0, 1, 0, 0, 0, 0, 1, 0, 0, 0, 0, 0, 0, 1, 0, 0, 1, 1, 1, 1, 1, 0, 1, 1, 0, 0, 0, 1, 0, 1, 1, 1, 1, 1, 1, 1, 1, 1]\n"
     ]
    },
    {
     "data": {
      "image/png": "[encoded data removed]",
      "text/plain": [
       "<Figure size 432x288 with 2 Axes>"
      ]
     },
     "metadata": {
      "needs_background": "light"
     },
     "output_type": "display_data"
    },
    {
     "data": {
      "image/png": "[encoded data removed]",
      "text/plain": [
       "<Figure size 1080x720 with 1 Axes>"
      ]
     },
     "metadata": {
      "needs_background": "light"
     },
     "output_type": "display_data"
    }
   ],
   "source": [
    "RF = RFC(OGdata.scale(), target, newdata_dum, 100) #Build Random Forest with 100 trees\n",
    "RF.fit_and_predict() #Fit and predict with this model\n",
    "RF.cm() #Produce confusion matrix\n",
    "RF.feature_importance() #Produce feature importance plot"
   ]
  },
  {
   "cell_type": "markdown",
   "metadata": {},
   "source": [
    "### Random Forest Model\n",
    "#### Slimmed dataset (most important features by SVM and RF models)"
   ]
  },
  {
   "cell_type": "code",
   "execution_count": 90,
   "metadata": {},
   "outputs": [
    {
     "data": {
      "text/plain": [
       "array([[0.61538462, 0.51724138, 0.58125   , ..., 0.29059829, 0.        ,\n",
       "        0.        ],\n",
       "       [0.74358974, 0.5862069 , 0.44375   , ..., 0.44444444, 0.8       ,\n",
       "        0.8       ],\n",
       "       [0.        , 0.44827586, 0.2625    , ..., 0.57264957, 0.        ,\n",
       "        0.        ],\n",
       "       ...,\n",
       "       [0.33333333, 0.48275862, 0.41875   , ..., 0.36752137, 0.2       ,\n",
       "        0.2       ],\n",
       "       [0.61538462, 0.27586207, 0.0875    , ..., 0.08547009, 0.6       ,\n",
       "        0.5       ],\n",
       "       [0.74358974, 0.62068966, 0.5125    , ..., 0.58119658, 0.        ,\n",
       "        0.1       ]])"
      ]
     },
     "execution_count": 90,
     "metadata": {},
     "output_type": "execute_result"
    }
   ],
   "source": [
    "'''\n",
    "Because not all features are important for the prediction, \n",
    "let's try only using some of the more important features from the dataset and retesting the prediction accuracy with RFC.\n",
    "\n",
    "'''\n",
    "columns_to_keep_RF = newdata[['Age', \n",
    "                           'Height (ins)', \n",
    "                           'Weight (lbs)',\n",
    "                           'BMI', \n",
    "                           'SBP Baseline',\n",
    "                           'DBP Baseline',\n",
    "                           'UACR Baseline', \n",
    "                           'Creatinine Baseline', \n",
    "                           'Cystatin C Baseline', \n",
    "                           'HDL Baseline mg/dL', \n",
    "                           'LDL Baseline mg/dL',\n",
    "                           'Total HTN Class Drugs Baseline',\n",
    "                           'Total Meds Overall Baseline'\n",
    "                          ]]\n",
    "slim_df = columns_to_keep_RF.copy()\n",
    "\n",
    "#Now that our data is cleaned and our target is defined, let's finish the preprocessing of our data\n",
    "slim_df_scaled = Preprocessing(slim_df)\n",
    "slim_df_scaled.scale()"
   ]
  },
  {
   "cell_type": "code",
   "execution_count": 91,
   "metadata": {},
   "outputs": [
    {
     "name": "stdout",
     "output_type": "stream",
     "text": [
      "PREDICTION ACCURACY\n",
      "0.5742690058479532\n",
      "\n",
      "ALL LABELS\n",
      "[0, 0, 0, 0, 0, 0, 0, 0, 0, 0, 1, 1, 1, 1, 1, 1, 1, 1, 1, 0, 0, 0, 0, 0, 0, 0, 0, 0, 0, 1, 1, 1, 1, 1, 1, 1, 1, 1, 0, 0, 0, 0, 0, 0, 0, 0, 0, 1, 1, 1, 1, 1, 1, 1, 1, 1, 1, 0, 0, 0, 0, 0, 0, 0, 0, 0, 1, 1, 1, 1, 1, 1, 1, 1, 1, 1, 0, 0, 0, 0, 0, 0, 0, 0, 0, 1, 1, 1, 1, 1, 1, 1, 1, 1]\n",
      "\n",
      "ALL PREDICTIONS\n",
      "[0, 1, 1, 0, 1, 0, 1, 1, 0, 1, 0, 1, 1, 1, 1, 0, 1, 1, 1, 0, 0, 0, 0, 0, 0, 1, 1, 0, 1, 1, 0, 1, 0, 0, 1, 1, 0, 0, 1, 0, 0, 0, 0, 0, 0, 0, 1, 0, 1, 1, 1, 1, 1, 1, 0, 0, 0, 1, 1, 1, 1, 0, 0, 1, 0, 0, 0, 0, 0, 1, 1, 0, 1, 1, 1, 0, 1, 0, 1, 1, 0, 1, 0, 1, 0, 1, 1, 1, 1, 0, 0, 1, 0, 1]\n"
     ]
    },
    {
     "data": {
      "image/png": "[encoded data removed]",
      "text/plain": [
       "<Figure size 432x288 with 2 Axes>"
      ]
     },
     "metadata": {
      "needs_background": "light"
     },
     "output_type": "display_data"
    },
    {
     "data": {
      "image/png": "[encoded data removed]",
      "text/plain": [
       "<Figure size 1080x720 with 1 Axes>"
      ]
     },
     "metadata": {
      "needs_background": "light"
     },
     "output_type": "display_data"
    }
   ],
   "source": [
    "slim_df_RF = RFC(slim_df_scaled.scale(), target, slim_df, 25) #Build Random Forest with 25 trees for slim df\n",
    "slim_df_RF.fit_and_predict() #Fit and predict with this model\n",
    "slim_df_RF.cm() #Produce confusion matrix\n",
    "slim_df_RF.feature_importance() #Produce feature importance plot"
   ]
  },
  {
   "cell_type": "markdown",
   "metadata": {},
   "source": [
    "### Random Forest Regression Model\n",
    "#### All Features"
   ]
  },
  {
   "cell_type": "code",
   "execution_count": 26,
   "metadata": {},
   "outputs": [
    {
     "data": {
      "text/plain": [
       "array([[0.61538462, 0.51724138, 0.58125   , ..., 1.        , 0.        ,\n",
       "        1.        ],\n",
       "       [0.74358974, 0.5862069 , 0.44375   , ..., 1.        , 1.        ,\n",
       "        0.        ],\n",
       "       [0.        , 0.44827586, 0.2625    , ..., 0.        , 0.        ,\n",
       "        1.        ],\n",
       "       ...,\n",
       "       [0.33333333, 0.48275862, 0.41875   , ..., 0.        , 1.        ,\n",
       "        0.        ],\n",
       "       [0.61538462, 0.27586207, 0.0875    , ..., 0.        , 1.        ,\n",
       "        0.        ],\n",
       "       [0.74358974, 0.62068966, 0.5125    , ..., 1.        , 0.        ,\n",
       "        1.        ]])"
      ]
     },
     "execution_count": 26,
     "metadata": {},
     "output_type": "execute_result"
    }
   ],
   "source": [
    "'''\n",
    "I'm curious about the ability for a random forest regression model to predict the PON activity numerical value.\n",
    "We'll have to essentially start back from the beginning and keep our variable 'SPECIFIC PON ACTIVITY (pmol/min/mL) Baseline'\n",
    "and remove 'PONClass'\n",
    "\n",
    "'''\n",
    "Original_Data2 = pd.read_csv(r\"C:\\Users\\Josh\\Downloads\\CORAL_Baseline_V3.csv\", index_col ='Analysis Sequence')\n",
    "#Let's first remove features that may not be of interest to us\n",
    "Quant_Cleaned_df = Original_Data2.drop(columns=['Sub ID', \n",
    "                                         'HDL Baseline Median High_Low', \n",
    "                                         'LDL Baseline Median High_Low', \n",
    "                                         'Microalbumin Cr Ratio Log Bsln.',  \n",
    "                                         'PON Activity Baseline Median High_Low', \n",
    "                                         'PON_HDL Ratio Baseline',\n",
    "                                         'LDL_PON Ratio Baseline'\n",
    "                                        ])\n",
    "Quant_FeaturesDropped_df = Quant_Cleaned_df.drop(columns=['Potassium Baseline', 'Angina', 'CVD'])\n",
    "Quant_newdata_dropped = Quant_FeaturesDropped_df.dropna() #Drops samples (rows) which have missing data\n",
    "'''\n",
    "We know that our data is very imbalanced, with Low only being represented by about 7% of our data.\n",
    "To address this, we can undersample from the majority 'High'.\n",
    "\n",
    "'''\n",
    "Quant_minority = Quant_newdata_dropped[Quant_newdata_dropped['PONClass'] == 'Low'] #Assigns the Low PONClass samples to the minority df\n",
    "Quant_majority = Quant_newdata_dropped[Quant_newdata_dropped['PONClass'] == 'High'] #Assigns the High PONClass samples to the majority df\n",
    "\n",
    "Quant_undersampled = resample(Quant_majority, n_samples=47, random_state=509) #Randomly selects samples from the majority df until there are a total of 47 samples with 'High'\n",
    "\n",
    "Quant_newdata_balanced = pd.concat([Quant_undersampled,Quant_minority]) #Combines the 47 randomly selected majority samples with the existing 47 minority samples\n",
    "\n",
    "'''Now we need to separate the target from the data and scale'''\n",
    "\n",
    "Quant_target = Quant_newdata_balanced['SPECIFIC PON ACTIVITY (pmol/min/mL) Baseline']\n",
    "Quant_newdata = Quant_newdata_balanced.drop(columns=['SPECIFIC PON ACTIVITY (pmol/min/mL) Baseline', 'PONClass'])\n",
    "Quant_newdata_dum = pd.get_dummies(Quant_newdata, \n",
    "                        columns=[\"Sex\",\"Race\", \"Ethnicity: Latino_Hispanic\", \"Treatment_Assignment\", \"Creatinine Status\", \"Site_Country Group\", \"CKD by CKD_EPI Calc\", \"CKD by CKD_EPI\", \"CKD\", \"CKD Stage\", \"CKD Stage by CKD_EPI GFR\", \"Renal Dysfunction\", \"DM\", \"TIA | Stroke\", \"CHF Hx\", \"Hyperlipidemia\", \"Smoking\", \"MI\", \"PVD\"], \n",
    "                        prefix=[\"Sex_is\",\"Race_is\", \"Hispanic_is\", \"Treatment_is\", \"Creatinine_Status_is\", \"Site_is\", \"CKD_by_EPI_Calc_is\", \"CKD_by_EPI_is\", \"CKD_is\", \"CKD_Stage_is\", \"CKD_Stage_by_CKD_EPI_GFR_is\", \"Renal_Dysfunction_is\", \"DM_is\", \"TIA_or_Stroke_is\", \"CHF_Hx_is\", \"Hyperlipidemia_is\", \"Smoking_is\", \"MI_is\", \"PVD_is\"] \n",
    "                       )\n",
    "Quant_df_scaled = Preprocessing(Quant_newdata_dum)\n",
    "Quant_df_scaled.scale()"
   ]
  },
  {
   "cell_type": "code",
   "execution_count": 27,
   "metadata": {},
   "outputs": [],
   "source": [
    "class RFR: #Random Forest Regressor\n",
    "    \n",
    "    def __init__(self, scaled_data, target, trees):\n",
    "        self.data = scaled_data\n",
    "        self.target = target\n",
    "        self.trees = trees #number of trees in forest\n",
    "        self.rfr = RandomForestRegressor(n_estimators = self.trees, random_state = 509)\n",
    "        \n",
    "    def fit_and_predict(self):        \n",
    "                \n",
    "        self.all_labels = []\n",
    "        self.all_predictions = []\n",
    "        self.accuracy = 0\n",
    "        \n",
    "        X_train, X_test, y_train, y_test = train_test_split(self.data, self.target.values, test_size = 0.25, random_state = 509)\n",
    "            \n",
    "        self.rfr.fit(X_train, y_train) #fit the model to the training data\n",
    "        self.predictions = self.rfr.predict(X_test) #predict from text data\n",
    "            \n",
    "        errors = abs(self.predictions - y_test) # Calculate the absolute errors\n",
    "        print('Mean Absolute Error:', round(np.mean(errors), 2), 'degrees.') # Print out the mean absolute error (mae)\n",
    "        mape = 100 * (errors / y_test) # Calculate mean absolute percentage error (MAPE)\n",
    "        self.accuracy = (100 - np.mean(mape)) # Calculate accuracy\n",
    "        \n",
    "        print(\"PREDICTION ACCURACY\")\n",
    "        print(self.accuracy)\n",
    "        print()\n",
    "        print('ALL LABELS')\n",
    "        print(y_test)\n",
    "        print()\n",
    "        print('ALL PREDICTIONS')\n",
    "        print(self.predictions)"
   ]
  },
  {
   "cell_type": "code",
   "execution_count": 92,
   "metadata": {},
   "outputs": [
    {
     "name": "stdout",
     "output_type": "stream",
     "text": [
      "Mean Absolute Error: 608.63 degrees.\n",
      "PREDICTION ACCURACY\n",
      "58.569718329015366\n",
      "\n",
      "ALL LABELS\n",
      "[3789.02 1147.3  1817.35 2642.58  788.68  929.89 1305.36 1271.7  1274.\n",
      " 1182.82 2482.23 2410.9  1140.73 2438.94 1436.44 3125.43  796.54 2831.93\n",
      " 3091.99 1349.77 1879.67 1167.22  966.98 2197.68]\n",
      "\n",
      "ALL PREDICTIONS\n",
      "[1272.7841 1627.9056 1989.4022 2358.757  1745.7649 2139.2906 1573.1529\n",
      " 1638.8785 2042.272  1827.2902 1634.5761 2667.8913 1577.8981 2401.6775\n",
      " 1701.2157 2206.5868 1692.4827 2042.6822 2586.7995 1792.2895 2037.45\n",
      " 1750.2604 1542.7302 1969.5333]\n"
     ]
    }
   ],
   "source": [
    "Regressor_df = RFR(Quant_df_scaled.scale(), Quant_target, 100) #Build Random Forest with 25 trees for slim df\n",
    "Regressor_df.fit_and_predict() #Fit and predict with this model"
   ]
  },
  {
   "cell_type": "markdown",
   "metadata": {},
   "source": [
    "### Artificial Neural Network Model\n",
    "#### All Features - Keras"
   ]
  },
  {
   "cell_type": "code",
   "execution_count": 71,
   "metadata": {},
   "outputs": [],
   "source": [
    "class NN: # Neural Network Model - 3 different models. \n",
    "    \n",
    "    def __init__(self, scaled_data, target, input_size):\n",
    "        self.data = scaled_data\n",
    "        self.target = target\n",
    "        self.input = input_size # Number of input features\n",
    "        self.ann_models = [Sequential(), Sequential(), Sequential()] # All models will be a sequential model stored in an array\n",
    "        \n",
    "    def fit(self):        \n",
    "                \n",
    "        self.ann_models[0].add(Dense(1000, input_dim=self.input, activation='relu')) # model 1 has one hidden layer with 1000 neurons\n",
    "\n",
    "        self.ann_models[1].add(Dense(1000, input_dim=self.input, activation='relu')) # model 2 has three hidden layers with 1000 neurons, 10000 neurons, and 1000 neurons\n",
    "        self.ann_models[1].add(Dense(10000, activation='relu'))\n",
    "        self.ann_models[1].add(Dense(1000, activation='relu'))\n",
    "\n",
    "        self.ann_models[2].add(Dense(10000, input_dim=self.input, activation='relu')) # model 3 has one hidden layer with 10000 neurons\n",
    "\n",
    "        \n",
    "        self.X_train, self.X_test, self.y_train, self.y_test = train_test_split(self.data, self.target, test_size = 0.25, random_state = 509)\n",
    "        \n",
    "        print(\"Model 1 has one hidden layer with 1000 neurons \\nModel 2 has three hidden layers with 1000 neurons, 10000 neurons, and 1000 neurons \\nModel 3 has one hidden layer with 10000 neurons\")\n",
    "        i=1 #resets counter\n",
    "        \n",
    "        for m in self.ann_models:\n",
    "            print(m) # shows model name stored in array\n",
    "            m.add(Dense(1, activation='sigmoid')) # Defines the output layer size, (#of categories)\n",
    "            m.compile(loss='binary_crossentropy', optimizer='adam', metrics=['accuracy']) # Specifies the loss and optimizer functions\n",
    "            print(\"Fitting model {}\".format(i)) # prints model number\n",
    "            m.fit(self.X_train, self.y_train, epochs=20) # fits training data to model\n",
    "            i += 1 # model counter\n",
    "            \n",
    "    def pred_train(self): # allows for prediction of train set\n",
    "        scores = []\n",
    "        for m in self.ann_models:\n",
    "            pred = m.predict_classes(self.X_train)\n",
    "            score = np.sum([1 for i in range(len(self.y_train)) if self.y_train[i] == pred[i]]) / len(self.y_train)\n",
    "            print(score)\n",
    "            scores.append(score)\n",
    "        return self.ann_models[np.argmax(scores)]\n",
    "    \n",
    "    def pred_test(self): # allows for prediction of test set\n",
    "        scores = []\n",
    "        for m in self.ann_models:\n",
    "            pred = m.predict_classes(self.X_test)\n",
    "            score = np.sum([1 for i in range(len(self.y_test)) if self.y_test[i] == pred[i]]) / len(self.y_test)\n",
    "            print(score)\n",
    "            scores.append(score)\n",
    "        return self.ann_models[np.argmax(scores)]"
   ]
  },
  {
   "cell_type": "code",
   "execution_count": 80,
   "metadata": {},
   "outputs": [
    {
     "name": "stdout",
     "output_type": "stream",
     "text": [
      "Model 1 has one hidden layer with 1000 neurons \n",
      "Model 2 has three hidden layers with 1000 neurons, 10000 neurons, and 1000 neurons \n",
      "Model 3 has one hidden layer with 10000 neurons\n",
      "<tensorflow.python.keras.engine.sequential.Sequential object at 0x0000019573092190>\n",
      "Fitting model 1\n",
      "Epoch 1/20\n",
      "3/3 [==============================] - 1s 3ms/step - loss: 0.6966 - accuracy: 0.4974\n",
      "Epoch 2/20\n",
      "3/3 [==============================] - 0s 2ms/step - loss: 0.6761 - accuracy: 0.5540\n",
      "Epoch 3/20\n",
      "3/3 [==============================] - 0s 3ms/step - loss: 0.6567 - accuracy: 0.5331\n",
      "Epoch 4/20\n",
      "3/3 [==============================] - 0s 2ms/step - loss: 0.6085 - accuracy: 0.7692\n",
      "Epoch 5/20\n",
      "3/3 [==============================] - 0s 3ms/step - loss: 0.5987 - accuracy: 0.6801\n",
      "Epoch 6/20\n",
      "3/3 [==============================] - 0s 2ms/step - loss: 0.5977 - accuracy: 0.6827\n",
      "Epoch 7/20\n",
      "3/3 [==============================] - 0s 3ms/step - loss: 0.5749 - accuracy: 0.7269\n",
      "Epoch 8/20\n",
      "3/3 [==============================] - 0s 2ms/step - loss: 0.5536 - accuracy: 0.7347\n",
      "Epoch 9/20\n",
      "3/3 [==============================] - 0s 3ms/step - loss: 0.5507 - accuracy: 0.7158\n",
      "Epoch 10/20\n",
      "3/3 [==============================] - 0s 2ms/step - loss: 0.5238 - accuracy: 0.7952\n",
      "Epoch 11/20\n",
      "3/3 [==============================] - 0s 2ms/step - loss: 0.5042 - accuracy: 0.7542\n",
      "Epoch 12/20\n",
      "3/3 [==============================] - 0s 3ms/step - loss: 0.5060 - accuracy: 0.7906\n",
      "Epoch 13/20\n",
      "3/3 [==============================] - 0s 2ms/step - loss: 0.4882 - accuracy: 0.8056\n",
      "Epoch 14/20\n",
      "3/3 [==============================] - 0s 2ms/step - loss: 0.4911 - accuracy: 0.8049\n",
      "Epoch 15/20\n",
      "3/3 [==============================] - 0s 2ms/step - loss: 0.4633 - accuracy: 0.8504\n",
      "Epoch 16/20\n",
      "3/3 [==============================] - 0s 3ms/step - loss: 0.4572 - accuracy: 0.8589\n",
      "Epoch 17/20\n",
      "3/3 [==============================] - 0s 2ms/step - loss: 0.4515 - accuracy: 0.8472\n",
      "Epoch 18/20\n",
      "3/3 [==============================] - 0s 2ms/step - loss: 0.4253 - accuracy: 0.9031\n",
      "Epoch 19/20\n",
      "3/3 [==============================] - 0s 2ms/step - loss: 0.4348 - accuracy: 0.8647\n",
      "Epoch 20/20\n",
      "3/3 [==============================] - 0s 3ms/step - loss: 0.4160 - accuracy: 0.8804\n",
      "<tensorflow.python.keras.engine.sequential.Sequential object at 0x0000019504A5AF70>\n",
      "Fitting model 2\n",
      "Epoch 1/20\n",
      "3/3 [==============================] - 1s 169ms/step - loss: 0.8527 - accuracy: 0.5065\n",
      "Epoch 2/20\n",
      "3/3 [==============================] - 1s 173ms/step - loss: 1.6592 - accuracy: 0.4772\n",
      "Epoch 3/20\n",
      "3/3 [==============================] - 1s 170ms/step - loss: 0.7138 - accuracy: 0.4766\n",
      "Epoch 4/20\n",
      "3/3 [==============================] - 1s 167ms/step - loss: 0.6708 - accuracy: 0.5527\n",
      "Epoch 5/20\n",
      "3/3 [==============================] - 1s 166ms/step - loss: 0.6555 - accuracy: 0.6008\n",
      "Epoch 6/20\n",
      "3/3 [==============================] - 1s 185ms/step - loss: 0.6709 - accuracy: 0.4941\n",
      "Epoch 7/20\n",
      "3/3 [==============================] - 1s 170ms/step - loss: 0.5791 - accuracy: 0.6496\n",
      "Epoch 8/20\n",
      "3/3 [==============================] - 1s 168ms/step - loss: 0.5169 - accuracy: 0.7731\n",
      "Epoch 9/20\n",
      "3/3 [==============================] - 1s 175ms/step - loss: 0.5016 - accuracy: 0.6931\n",
      "Epoch 10/20\n",
      "3/3 [==============================] - 1s 175ms/step - loss: 0.4019 - accuracy: 0.8564\n",
      "Epoch 11/20\n",
      "3/3 [==============================] - 1s 166ms/step - loss: 0.3046 - accuracy: 0.9148\n",
      "Epoch 12/20\n",
      "3/3 [==============================] - 1s 166ms/step - loss: 0.3179 - accuracy: 0.8056\n",
      "Epoch 13/20\n",
      "3/3 [==============================] - 1s 171ms/step - loss: 0.2524 - accuracy: 0.9402\n",
      "Epoch 14/20\n",
      "3/3 [==============================] - 1s 167ms/step - loss: 0.2094 - accuracy: 0.9330\n",
      "Epoch 15/20\n",
      "3/3 [==============================] - 1s 167ms/step - loss: 0.1727 - accuracy: 0.9590\n",
      "Epoch 16/20\n",
      "3/3 [==============================] - 1s 164ms/step - loss: 0.1699 - accuracy: 0.9142\n",
      "Epoch 17/20\n",
      "3/3 [==============================] - 1s 166ms/step - loss: 0.1984 - accuracy: 0.8836\n",
      "Epoch 18/20\n",
      "3/3 [==============================] - 1s 169ms/step - loss: 0.0828 - accuracy: 0.9701\n",
      "Epoch 19/20\n",
      "3/3 [==============================] - 1s 165ms/step - loss: 0.0820 - accuracy: 0.9480\n",
      "Epoch 20/20\n",
      "3/3 [==============================] - 1s 166ms/step - loss: 0.0456 - accuracy: 0.9890\n",
      "<tensorflow.python.keras.engine.sequential.Sequential object at 0x0000019571F6BCD0>\n",
      "Fitting model 3\n",
      "Epoch 1/20\n",
      "3/3 [==============================] - 1s 7ms/step - loss: 0.7192 - accuracy: 0.4961\n",
      "Epoch 2/20\n",
      "3/3 [==============================] - 0s 8ms/step - loss: 0.6001 - accuracy: 0.7211\n",
      "Epoch 3/20\n",
      "3/3 [==============================] - 0s 7ms/step - loss: 0.6340 - accuracy: 0.5994\n",
      "Epoch 4/20\n",
      "3/3 [==============================] - 0s 7ms/step - loss: 0.5530 - accuracy: 0.7796\n",
      "Epoch 5/20\n",
      "3/3 [==============================] - 0s 7ms/step - loss: 0.5681 - accuracy: 0.6983\n",
      "Epoch 6/20\n",
      "3/3 [==============================] - 0s 7ms/step - loss: 0.5305 - accuracy: 0.7055\n",
      "Epoch 7/20\n",
      "3/3 [==============================] - 0s 7ms/step - loss: 0.4942 - accuracy: 0.7692\n",
      "Epoch 8/20\n",
      "3/3 [==============================] - 0s 8ms/step - loss: 0.4823 - accuracy: 0.7867\n",
      "Epoch 9/20\n",
      "3/3 [==============================] - ETA: 0s - loss: 0.5411 - accuracy: 0.68 - 0s 8ms/step - loss: 0.4749 - accuracy: 0.7561\n",
      "Epoch 10/20\n",
      "3/3 [==============================] - 0s 6ms/step - loss: 0.4549 - accuracy: 0.7522\n",
      "Epoch 11/20\n",
      "3/3 [==============================] - 0s 7ms/step - loss: 0.3916 - accuracy: 0.8960\n",
      "Epoch 12/20\n",
      "3/3 [==============================] - 0s 7ms/step - loss: 0.3742 - accuracy: 0.8706\n",
      "Epoch 13/20\n",
      "3/3 [==============================] - 0s 7ms/step - loss: 0.4186 - accuracy: 0.8127\n",
      "Epoch 14/20\n",
      "3/3 [==============================] - 0s 8ms/step - loss: 0.3541 - accuracy: 0.8700\n",
      "Epoch 15/20\n",
      "3/3 [==============================] - 0s 7ms/step - loss: 0.3644 - accuracy: 0.8804\n",
      "Epoch 16/20\n",
      "3/3 [==============================] - 0s 7ms/step - loss: 0.3142 - accuracy: 0.9330\n",
      "Epoch 17/20\n",
      "3/3 [==============================] - 0s 7ms/step - loss: 0.3178 - accuracy: 0.9369\n",
      "Epoch 18/20\n",
      "3/3 [==============================] - 0s 7ms/step - loss: 0.2793 - accuracy: 0.8882\n",
      "Epoch 19/20\n",
      "3/3 [==============================] - 0s 7ms/step - loss: 0.3033 - accuracy: 0.8836\n",
      "Epoch 20/20\n",
      "3/3 [==============================] - 0s 7ms/step - loss: 0.2694 - accuracy: 0.9441\n"
     ]
    }
   ],
   "source": [
    "NN_df = NN(OGdata.scale(), target, 58) #scaled_data (array), target (array), input_size (Number is size of input data)\n",
    "NN_df.fit()"
   ]
  },
  {
   "cell_type": "code",
   "execution_count": 82,
   "metadata": {},
   "outputs": [
    {
     "name": "stdout",
     "output_type": "stream",
     "text": [
      "Best model for train data:\n",
      "0.8714285714285714\n",
      "0.9714285714285714\n",
      "0.9285714285714286\n",
      "Model: \"sequential_28\"\n",
      "_________________________________________________________________\n",
      "Layer (type)                 Output Shape              Param #   \n",
      "=================================================================\n",
      "dense_73 (Dense)             (None, 1000)              59000     \n",
      "_________________________________________________________________\n",
      "dense_74 (Dense)             (None, 10000)             10010000  \n",
      "_________________________________________________________________\n",
      "dense_75 (Dense)             (None, 1000)              10001000  \n",
      "_________________________________________________________________\n",
      "dense_78 (Dense)             (None, 1)                 1001      \n",
      "=================================================================\n",
      "Total params: 20,071,001\n",
      "Trainable params: 20,071,001\n",
      "Non-trainable params: 0\n",
      "_________________________________________________________________\n",
      "None\n",
      "Best model for test data:\n",
      "0.6666666666666666\n",
      "0.625\n",
      "0.7083333333333334\n",
      "Model: \"sequential_29\"\n",
      "_________________________________________________________________\n",
      "Layer (type)                 Output Shape              Param #   \n",
      "=================================================================\n",
      "dense_76 (Dense)             (None, 10000)             590000    \n",
      "_________________________________________________________________\n",
      "dense_79 (Dense)             (None, 1)                 10001     \n",
      "=================================================================\n",
      "Total params: 600,001\n",
      "Trainable params: 600,001\n",
      "Non-trainable params: 0\n",
      "_________________________________________________________________\n",
      "None\n"
     ]
    }
   ],
   "source": [
    "print(\"Best model for train data:\")\n",
    "print(NN_df.pred_train().summary())\n",
    "print(\"Best model for test data:\")\n",
    "print(NN_df.pred_test().summary())"
   ]
  },
  {
   "cell_type": "markdown",
   "metadata": {},
   "source": [
    "### Artificial Neural Network Model\n",
    "#### Slimmed dataset (most important features by SVM and RF models) - Keras"
   ]
  },
  {
   "cell_type": "code",
   "execution_count": 86,
   "metadata": {},
   "outputs": [
    {
     "name": "stdout",
     "output_type": "stream",
     "text": [
      "Model 1 has one hidden layer with 1000 neurons \n",
      "Model 2 has three hidden layers with 1000 neurons, 10000 neurons, and 1000 neurons \n",
      "Model 3 has one hidden layer with 10000 neurons\n",
      "<tensorflow.python.keras.engine.sequential.Sequential object at 0x0000019504DD3D90>\n",
      "Fitting model 1\n",
      "Epoch 1/20\n",
      "3/3 [==============================] - 1s 2ms/step - loss: 0.7067 - accuracy: 0.2796\n",
      "Epoch 2/20\n",
      "3/3 [==============================] - 0s 2ms/step - loss: 0.6903 - accuracy: 0.5416\n",
      "Epoch 3/20\n",
      "3/3 [==============================] - 0s 1ms/step - loss: 0.6817 - accuracy: 0.5156\n",
      "Epoch 4/20\n",
      "3/3 [==============================] - 0s 2ms/step - loss: 0.6783 - accuracy: 0.5345\n",
      "Epoch 5/20\n",
      "3/3 [==============================] - 0s 2ms/step - loss: 0.6783 - accuracy: 0.6001\n",
      "Epoch 6/20\n",
      "3/3 [==============================] - 0s 2ms/step - loss: 0.6704 - accuracy: 0.6339\n",
      "Epoch 7/20\n",
      "3/3 [==============================] - 0s 2ms/step - loss: 0.6692 - accuracy: 0.5969\n",
      "Epoch 8/20\n",
      "3/3 [==============================] - 0s 2ms/step - loss: 0.6715 - accuracy: 0.5780\n",
      "Epoch 9/20\n",
      "3/3 [==============================] - 0s 2ms/step - loss: 0.6693 - accuracy: 0.5663\n",
      "Epoch 10/20\n",
      "3/3 [==============================] - 0s 2ms/step - loss: 0.6623 - accuracy: 0.6047\n",
      "Epoch 11/20\n",
      "3/3 [==============================] - 0s 2ms/step - loss: 0.6583 - accuracy: 0.6229\n",
      "Epoch 12/20\n",
      "3/3 [==============================] - 0s 2ms/step - loss: 0.6501 - accuracy: 0.6684\n",
      "Epoch 13/20\n",
      "3/3 [==============================] - 0s 2ms/step - loss: 0.6499 - accuracy: 0.6749\n",
      "Epoch 14/20\n",
      "3/3 [==============================] - 0s 2ms/step - loss: 0.6481 - accuracy: 0.7009\n",
      "Epoch 15/20\n",
      "3/3 [==============================] - 0s 2ms/step - loss: 0.6415 - accuracy: 0.6898\n",
      "Epoch 16/20\n",
      "3/3 [==============================] - 0s 2ms/step - loss: 0.6413 - accuracy: 0.6937\n",
      "Epoch 17/20\n",
      "3/3 [==============================] - 0s 2ms/step - loss: 0.6336 - accuracy: 0.6866\n",
      "Epoch 18/20\n",
      "3/3 [==============================] - 0s 2ms/step - loss: 0.6298 - accuracy: 0.7204\n",
      "Epoch 19/20\n",
      "3/3 [==============================] - 0s 2ms/step - loss: 0.6287 - accuracy: 0.7087\n",
      "Epoch 20/20\n",
      "3/3 [==============================] - 0s 2ms/step - loss: 0.6219 - accuracy: 0.7172\n",
      "<tensorflow.python.keras.engine.sequential.Sequential object at 0x00000195015C4430>\n",
      "Fitting model 2\n",
      "Epoch 1/20\n",
      "3/3 [==============================] - 1s 169ms/step - loss: 0.7713 - accuracy: 0.3459\n",
      "Epoch 2/20\n",
      "3/3 [==============================] - 1s 164ms/step - loss: 0.7063 - accuracy: 0.5013\n",
      "Epoch 3/20\n",
      "3/3 [==============================] - 1s 164ms/step - loss: 0.6989 - accuracy: 0.4961\n",
      "Epoch 4/20\n",
      "3/3 [==============================] - 1s 165ms/step - loss: 0.6557 - accuracy: 0.6521\n",
      "Epoch 5/20\n",
      "3/3 [==============================] - 1s 162ms/step - loss: 0.6509 - accuracy: 0.5481\n",
      "Epoch 6/20\n",
      "3/3 [==============================] - 1s 163ms/step - loss: 0.6312 - accuracy: 0.6691\n",
      "Epoch 7/20\n",
      "3/3 [==============================] - 1s 166ms/step - loss: 0.5800 - accuracy: 0.6834\n",
      "Epoch 8/20\n",
      "3/3 [==============================] - 1s 165ms/step - loss: 0.5888 - accuracy: 0.6795\n",
      "Epoch 9/20\n",
      "3/3 [==============================] - 1s 178ms/step - loss: 0.5488 - accuracy: 0.6898\n",
      "Epoch 10/20\n",
      "3/3 [==============================] - 1s 177ms/step - loss: 0.5324 - accuracy: 0.7094\n",
      "Epoch 11/20\n",
      "3/3 [==============================] - 1s 169ms/step - loss: 0.5141 - accuracy: 0.7419\n",
      "Epoch 12/20\n",
      "3/3 [==============================] - 1s 173ms/step - loss: 0.5186 - accuracy: 0.7497\n",
      "Epoch 13/20\n",
      "3/3 [==============================] - 1s 172ms/step - loss: 0.4806 - accuracy: 0.7230\n",
      "Epoch 14/20\n",
      "3/3 [==============================] - 1s 173ms/step - loss: 0.4523 - accuracy: 0.8017\n",
      "Epoch 15/20\n",
      "3/3 [==============================] - 1s 165ms/step - loss: 0.3594 - accuracy: 0.8700\n",
      "Epoch 16/20\n",
      "3/3 [==============================] - 1s 169ms/step - loss: 0.3610 - accuracy: 0.8557\n",
      "Epoch 17/20\n",
      "3/3 [==============================] - 1s 163ms/step - loss: 0.3245 - accuracy: 0.8355\n",
      "Epoch 18/20\n",
      "3/3 [==============================] - 1s 167ms/step - loss: 0.3694 - accuracy: 0.8010\n",
      "Epoch 19/20\n",
      "3/3 [==============================] - 1s 177ms/step - loss: 0.2745 - accuracy: 0.8953\n",
      "Epoch 20/20\n",
      "3/3 [==============================] - 1s 165ms/step - loss: 0.2385 - accuracy: 0.9213\n",
      "<tensorflow.python.keras.engine.sequential.Sequential object at 0x00000195057915E0>\n",
      "Fitting model 3\n",
      "Epoch 1/20\n",
      "3/3 [==============================] - 1s 4ms/step - loss: 0.6980 - accuracy: 0.5833\n",
      "Epoch 2/20\n",
      "3/3 [==============================] - 0s 4ms/step - loss: 0.6653 - accuracy: 0.6574\n",
      "Epoch 3/20\n",
      "3/3 [==============================] - 0s 4ms/step - loss: 0.6592 - accuracy: 0.5663\n",
      "Epoch 4/20\n",
      "3/3 [==============================] - 0s 4ms/step - loss: 0.6452 - accuracy: 0.6001\n",
      "Epoch 5/20\n",
      "3/3 [==============================] - 0s 3ms/step - loss: 0.6415 - accuracy: 0.6873\n",
      "Epoch 6/20\n",
      "3/3 [==============================] - 0s 4ms/step - loss: 0.6735 - accuracy: 0.5754\n",
      "Epoch 7/20\n",
      "3/3 [==============================] - 0s 4ms/step - loss: 0.6329 - accuracy: 0.6359\n",
      "Epoch 8/20\n",
      "3/3 [==============================] - 0s 4ms/step - loss: 0.6140 - accuracy: 0.6496\n",
      "Epoch 9/20\n",
      "3/3 [==============================] - 0s 3ms/step - loss: 0.6442 - accuracy: 0.6210\n",
      "Epoch 10/20\n",
      "3/3 [==============================] - 0s 3ms/step - loss: 0.6544 - accuracy: 0.5546\n",
      "Epoch 11/20\n",
      "3/3 [==============================] - 0s 3ms/step - loss: 0.6038 - accuracy: 0.7204\n",
      "Epoch 12/20\n",
      "3/3 [==============================] - 0s 4ms/step - loss: 0.6278 - accuracy: 0.6560\n",
      "Epoch 13/20\n",
      "3/3 [==============================] - 0s 4ms/step - loss: 0.6581 - accuracy: 0.6482\n",
      "Epoch 14/20\n",
      "3/3 [==============================] - 0s 4ms/step - loss: 0.6125 - accuracy: 0.6905\n",
      "Epoch 15/20\n",
      "3/3 [==============================] - 0s 4ms/step - loss: 0.6014 - accuracy: 0.7191\n",
      "Epoch 16/20\n",
      "3/3 [==============================] - 0s 4ms/step - loss: 0.5908 - accuracy: 0.6424\n",
      "Epoch 17/20\n",
      "3/3 [==============================] - 0s 4ms/step - loss: 0.5767 - accuracy: 0.6587\n",
      "Epoch 18/20\n",
      "3/3 [==============================] - 0s 3ms/step - loss: 0.5714 - accuracy: 0.7165\n",
      "Epoch 19/20\n",
      "3/3 [==============================] - 0s 4ms/step - loss: 0.5700 - accuracy: 0.7094\n",
      "Epoch 20/20\n",
      "3/3 [==============================] - 0s 4ms/step - loss: 0.5910 - accuracy: 0.6677\n"
     ]
    }
   ],
   "source": [
    "slim_NN_df = NN(slim_df_scaled.scale(), target, 13)# Careful to adjust size of input data\n",
    "slim_NN_df.fit()"
   ]
  },
  {
   "cell_type": "code",
   "execution_count": 88,
   "metadata": {},
   "outputs": [
    {
     "name": "stdout",
     "output_type": "stream",
     "text": [
      "Best model for train data:\n",
      "0.7\n",
      "0.8714285714285714\n",
      "0.7428571428571429\n",
      "Model: \"sequential_34\"\n",
      "_________________________________________________________________\n",
      "Layer (type)                 Output Shape              Param #   \n",
      "=================================================================\n",
      "dense_89 (Dense)             (None, 1000)              14000     \n",
      "_________________________________________________________________\n",
      "dense_90 (Dense)             (None, 10000)             10010000  \n",
      "_________________________________________________________________\n",
      "dense_91 (Dense)             (None, 1000)              10001000  \n",
      "_________________________________________________________________\n",
      "dense_94 (Dense)             (None, 1)                 1001      \n",
      "=================================================================\n",
      "Total params: 20,026,001\n",
      "Trainable params: 20,026,001\n",
      "Non-trainable params: 0\n",
      "_________________________________________________________________\n",
      "None\n",
      "Best model for test data:\n",
      "0.5416666666666666\n",
      "0.625\n",
      "0.5\n",
      "Model: \"sequential_34\"\n",
      "_________________________________________________________________\n",
      "Layer (type)                 Output Shape              Param #   \n",
      "=================================================================\n",
      "dense_89 (Dense)             (None, 1000)              14000     \n",
      "_________________________________________________________________\n",
      "dense_90 (Dense)             (None, 10000)             10010000  \n",
      "_________________________________________________________________\n",
      "dense_91 (Dense)             (None, 1000)              10001000  \n",
      "_________________________________________________________________\n",
      "dense_94 (Dense)             (None, 1)                 1001      \n",
      "=================================================================\n",
      "Total params: 20,026,001\n",
      "Trainable params: 20,026,001\n",
      "Non-trainable params: 0\n",
      "_________________________________________________________________\n",
      "None\n"
     ]
    }
   ],
   "source": [
    "print(\"Best model for train data:\")\n",
    "print(slim_NN_df.pred_train().summary())\n",
    "print(\"Best model for test data:\")\n",
    "print(slim_NN_df.pred_test().summary())"
   ]
  }
 ],
 "metadata": {
  "kernelspec": {
   "display_name": "Python 3",
   "language": "python",
   "name": "python3"
  },
  "language_info": {
   "codemirror_mode": {
    "name": "ipython",
    "version": 3
   },
   "file_extension": ".py",
   "mimetype": "text/x-python",
   "name": "python",
   "nbconvert_exporter": "python",
   "pygments_lexer": "ipython3",
   "version": "3.8.5"
  }
 },
 "nbformat": 4,
 "nbformat_minor": 4
}
